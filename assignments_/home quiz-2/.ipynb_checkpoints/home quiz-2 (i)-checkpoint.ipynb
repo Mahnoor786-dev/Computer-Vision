{
 "cells": [
  {
   "cell_type": "markdown",
   "id": "631984f4",
   "metadata": {},
   "source": [
    "## Inverted Binary Thresholding"
   ]
  },
  {
   "cell_type": "code",
   "execution_count": 1,
   "id": "56e4c75c",
   "metadata": {},
   "outputs": [],
   "source": [
    "import cv2 as cv\n",
    "import numpy as np\n",
    "from matplotlib import pyplot as plt"
   ]
  },
  {
   "cell_type": "code",
   "execution_count": 2,
   "id": "a75fb265",
   "metadata": {},
   "outputs": [],
   "source": [
    "# read image in gray scale\n",
    "img = cv.imread('shapes.png',0)"
   ]
  },
  {
   "cell_type": "code",
   "execution_count": 3,
   "id": "4c6cf13c",
   "metadata": {},
   "outputs": [],
   "source": [
    "#get no of rows and columns(of pixels) in image\n",
    "row, col = img.shape"
   ]
  },
  {
   "cell_type": "code",
   "execution_count": 4,
   "id": "c43ce5ad",
   "metadata": {},
   "outputs": [],
   "source": [
    "#arry of zeros having same shape as image to be thresholded\n",
    "BnW_img= np.zeros((row,col),np.uint8)"
   ]
  },
  {
   "cell_type": "code",
   "execution_count": 5,
   "id": "9ace68cb",
   "metadata": {},
   "outputs": [],
   "source": [
    "#max gray level in image\n",
    "maxGrayLevel =img.max()"
   ]
  },
  {
   "cell_type": "code",
   "execution_count": 6,
   "id": "959e02b2",
   "metadata": {},
   "outputs": [],
   "source": [
    "threshold =img.mean() #average Gray Level of image"
   ]
  },
  {
   "cell_type": "code",
   "execution_count": 7,
   "id": "857fa08e",
   "metadata": {},
   "outputs": [],
   "source": [
    "# compute new threshold values till its difference from old one is very small\n",
    "while True:\n",
    "    # image segmented into two group of pixels, namely foregroundImg and backgroundImg\n",
    "    foregroundImg = (img > threshold) * img\n",
    "    backgroundImg = (img <= threshold) *img\n",
    "    foreground_Mean = foregroundImg.mean()\n",
    "    background_Mean = backgroundImg.mean()\n",
    "    threshold_new =(foreground_Mean + background_Mean)/2\n",
    "    if(threshold_new - threshold > 1e-3):\n",
    "        threshold_new = threshold\n",
    "    else:\n",
    "        break"
   ]
  },
  {
   "cell_type": "code",
   "execution_count": 8,
   "id": "a3b6b4b4",
   "metadata": {},
   "outputs": [],
   "source": [
    "for i in range(row):\n",
    "    for j in range(col):\n",
    "        if(img[i, j]>threshold_new):\n",
    "            BnW_img[i,j]=0\n",
    "        else:\n",
    "            BnW_img[i,j]=maxGrayLevel"
   ]
  },
  {
   "cell_type": "code",
   "execution_count": 9,
   "id": "5700f6a9",
   "metadata": {},
   "outputs": [],
   "source": [
    "#show converted image\n",
    "cv.imshow('BnW',BnW_img)\n",
    "cv.waitKey(0)\n",
    "cv.destroyAllWindows()"
   ]
  }
 ],
 "metadata": {
  "kernelspec": {
   "display_name": "Python 3 (ipykernel)",
   "language": "python",
   "name": "python3"
  },
  "language_info": {
   "codemirror_mode": {
    "name": "ipython",
    "version": 3
   },
   "file_extension": ".py",
   "mimetype": "text/x-python",
   "name": "python",
   "nbconvert_exporter": "python",
   "pygments_lexer": "ipython3",
   "version": "3.9.7"
  }
 },
 "nbformat": 4,
 "nbformat_minor": 5
}
