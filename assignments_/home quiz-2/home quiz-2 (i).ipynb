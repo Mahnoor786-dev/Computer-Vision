{
 "cells": [
  {
   "cell_type": "markdown",
   "id": "c38313fe",
   "metadata": {},
   "source": [
    "## Inverted Binary Thresholding"
   ]
  },
  {
   "cell_type": "code",
   "execution_count": 1,
   "id": "ded44830",
   "metadata": {},
   "outputs": [
    {
     "ename": "ModuleNotFoundError",
     "evalue": "No module named 'numpy'",
     "output_type": "error",
     "traceback": [
      "\u001b[1;31m---------------------------------------------------------------------------\u001b[0m",
      "\u001b[1;31mModuleNotFoundError\u001b[0m                       Traceback (most recent call last)",
      "Input \u001b[1;32mIn [1]\u001b[0m, in \u001b[0;36m<cell line: 1>\u001b[1;34m()\u001b[0m\n\u001b[1;32m----> 1\u001b[0m \u001b[38;5;28;01mimport\u001b[39;00m \u001b[38;5;21;01mnumpy\u001b[39;00m \u001b[38;5;28;01mas\u001b[39;00m \u001b[38;5;21;01mnp\u001b[39;00m\n\u001b[0;32m      2\u001b[0m \u001b[38;5;28;01mimport\u001b[39;00m \u001b[38;5;21;01mcv2\u001b[39;00m \u001b[38;5;28;01mas\u001b[39;00m \u001b[38;5;21;01mcv\u001b[39;00m\n",
      "\u001b[1;31mModuleNotFoundError\u001b[0m: No module named 'numpy'"
     ]
    }
   ],
   "source": [
    "import numpy as np\n",
    "import cv2 as cv"
   ]
  },
  {
   "cell_type": "code",
   "execution_count": 2,
   "id": "cc7447b3",
   "metadata": {},
   "outputs": [
    {
     "ename": "NameError",
     "evalue": "name 'cv' is not defined",
     "output_type": "error",
     "traceback": [
      "\u001b[1;31m---------------------------------------------------------------------------\u001b[0m",
      "\u001b[1;31mNameError\u001b[0m                                 Traceback (most recent call last)",
      "Input \u001b[1;32mIn [2]\u001b[0m, in \u001b[0;36m<cell line: 2>\u001b[1;34m()\u001b[0m\n\u001b[0;32m      1\u001b[0m \u001b[38;5;66;03m# read image in gray scale\u001b[39;00m\n\u001b[1;32m----> 2\u001b[0m img \u001b[38;5;241m=\u001b[39m \u001b[43mcv\u001b[49m\u001b[38;5;241m.\u001b[39mimread(\u001b[38;5;124m'\u001b[39m\u001b[38;5;124mshapes.png\u001b[39m\u001b[38;5;124m'\u001b[39m,\u001b[38;5;241m0\u001b[39m)\n",
      "\u001b[1;31mNameError\u001b[0m: name 'cv' is not defined"
     ]
    }
   ],
   "source": [
    "# read image in gray scale\n",
    "img = cv.imread('shapes.png',0)"
   ]
  },
  {
   "cell_type": "code",
   "execution_count": 3,
   "id": "56235be8",
   "metadata": {},
   "outputs": [],
   "source": [
    "#get no of rows and columns(of pixels) in image\n",
    "row, col = img.shape"
   ]
  },
  {
   "cell_type": "code",
   "execution_count": 4,
   "id": "85b715bd",
   "metadata": {},
   "outputs": [
    {
     "ename": "NameError",
     "evalue": "name 'np' is not defined",
     "output_type": "error",
     "traceback": [
      "\u001b[1;31m---------------------------------------------------------------------------\u001b[0m",
      "\u001b[1;31mNameError\u001b[0m                                 Traceback (most recent call last)",
      "\u001b[1;32m~\\AppData\\Local\\Temp/ipykernel_16592/689902841.py\u001b[0m in \u001b[0;36m<module>\u001b[1;34m\u001b[0m\n\u001b[0;32m      1\u001b[0m \u001b[1;31m#arry of zeros having same shape as image to be thresholded\u001b[0m\u001b[1;33m\u001b[0m\u001b[1;33m\u001b[0m\u001b[0m\n\u001b[1;32m----> 2\u001b[1;33m \u001b[0mBnW_img\u001b[0m\u001b[1;33m=\u001b[0m \u001b[0mnp\u001b[0m\u001b[1;33m.\u001b[0m\u001b[0mzeros\u001b[0m\u001b[1;33m(\u001b[0m\u001b[1;33m(\u001b[0m\u001b[0mrow\u001b[0m\u001b[1;33m,\u001b[0m\u001b[0mcol\u001b[0m\u001b[1;33m)\u001b[0m\u001b[1;33m,\u001b[0m\u001b[0mnp\u001b[0m\u001b[1;33m.\u001b[0m\u001b[0muint8\u001b[0m\u001b[1;33m)\u001b[0m\u001b[1;33m\u001b[0m\u001b[1;33m\u001b[0m\u001b[0m\n\u001b[0m",
      "\u001b[1;31mNameError\u001b[0m: name 'np' is not defined"
     ]
    }
   ],
   "source": [
    "#arry of zeros having same shape as image to be thresholded\n",
    "BnW_img= np.zeros((row,col),np.uint8)"
   ]
  },
  {
   "cell_type": "code",
   "execution_count": null,
   "id": "e7d8af89",
   "metadata": {},
   "outputs": [],
   "source": [
    "#max gray level in image\n",
    "maxGrayLevel =img.max()"
   ]
  },
  {
   "cell_type": "code",
   "execution_count": null,
   "id": "80d2db2f",
   "metadata": {},
   "outputs": [],
   "source": [
    "threshold =img.mean() #average Gray Level of image"
   ]
  },
  {
   "cell_type": "code",
   "execution_count": null,
   "id": "1af261af",
   "metadata": {},
   "outputs": [],
   "source": [
    "# compute new threshold values till its difference from old one is very small\n",
    "while True:\n",
    "    # image segmented into two group of pixels, namely foregroundImg and backgroundImg\n",
    "    foregroundImg = (img > threshold) * img\n",
    "    backgroundImg = (img <= threshold) *img\n",
    "    foreground_Mean = foregroundImg.mean()\n",
    "    background_Mean = backgroundImg.mean()\n",
    "    threshold_new =(foreground_Mean + background_Mean)/2\n",
    "    if(threshold_new - threshold > 1e-3):\n",
    "        threshold_new = threshold\n",
    "    else:\n",
    "        break"
   ]
  },
  {
   "cell_type": "code",
   "execution_count": null,
   "id": "54f830e6",
   "metadata": {},
   "outputs": [],
   "source": [
    "for i in range(row):\n",
    "    for j in range(col):\n",
    "        if(img[i, j]>threshold_new):\n",
    "            BnW_img[i,j]=0\n",
    "        else:\n",
    "            BnW_img[i,j]=maxGrayLevel"
   ]
  },
  {
   "cell_type": "code",
   "execution_count": null,
   "id": "21b413c6",
   "metadata": {},
   "outputs": [],
   "source": [
    "#show converted image\n",
    "cv.imshow('BnW',BnW_img)\n",
    "cv.waitKey(0)\n",
    "cv.destroyAllWindows()"
   ]
  }
 ],
 "metadata": {
  "kernelspec": {
   "display_name": "Python 3 (ipykernel)",
   "language": "python",
   "name": "python3"
  },
  "language_info": {
   "codemirror_mode": {
    "name": "ipython",
    "version": 3
   },
   "file_extension": ".py",
   "mimetype": "text/x-python",
   "name": "python",
   "nbconvert_exporter": "python",
   "pygments_lexer": "ipython3",
   "version": "3.9.7"
  }
 },
 "nbformat": 4,
 "nbformat_minor": 5
}
