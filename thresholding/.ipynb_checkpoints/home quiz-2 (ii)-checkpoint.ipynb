{
 "cells": [
  {
   "cell_type": "markdown",
   "id": "7623bdbe",
   "metadata": {},
   "source": [
    "## Truncate Thresholding"
   ]
  },
  {
   "cell_type": "code",
   "execution_count": 1,
   "id": "3cb00a26",
   "metadata": {},
   "outputs": [],
   "source": [
    "import cv2 as cv"
   ]
  },
  {
   "cell_type": "code",
   "execution_count": 2,
   "id": "e2eda52d",
   "metadata": {},
   "outputs": [],
   "source": [
    "# read image in gray scale\n",
    "img = cv.imread('shapes.png',0)"
   ]
  },
  {
   "cell_type": "code",
   "execution_count": 3,
   "id": "e33b6cc2",
   "metadata": {},
   "outputs": [],
   "source": [
    "#get no of rows and columns(of pixels) in image\n",
    "row, col = img.shape"
   ]
  },
  {
   "cell_type": "code",
   "execution_count": 4,
   "id": "224d2af6",
   "metadata": {},
   "outputs": [],
   "source": [
    "threshold =img.mean() #average Gray Level of image"
   ]
  },
  {
   "cell_type": "code",
   "execution_count": 5,
   "id": "cf23ac9a",
   "metadata": {},
   "outputs": [],
   "source": [
    "# compute new threshold values till its difference from old one is very small\n",
    "while True:\n",
    "    # image segmented into two group of pixels, namely foregroundImg and backgroundImg\n",
    "    foregroundImg = (img > threshold) * img\n",
    "    backgroundImg = (img <= threshold) *img\n",
    "    # mean of pixels in each group\n",
    "    foreground_Mean = foregroundImg.mean()\n",
    "    background_Mean = backgroundImg.mean()\n",
    "    threshold_new =(foreground_Mean + background_Mean)/2\n",
    "    # update new threshold values till its difference from old one is very small\n",
    "    if(threshold_new - threshold > 1e-4):\n",
    "        threshold_new = threshold\n",
    "    else:\n",
    "        break"
   ]
  },
  {
   "cell_type": "code",
   "execution_count": 6,
   "id": "ca1813ca",
   "metadata": {},
   "outputs": [],
   "source": [
    "for i in range(row):\n",
    "    for j in range(col):\n",
    "        if(img[i, j] > threshold_new):\n",
    "            img[i,j]=threshold_new"
   ]
  },
  {
   "cell_type": "code",
   "execution_count": 7,
   "id": "4978254b",
   "metadata": {},
   "outputs": [],
   "source": [
    "cv.imshow('BnW',img)\n",
    "cv.waitKey(0)\n",
    "cv.destroyAllWindows()"
   ]
  }
 ],
 "metadata": {
  "kernelspec": {
   "display_name": "Python 3 (ipykernel)",
   "language": "python",
   "name": "python3"
  },
  "language_info": {
   "codemirror_mode": {
    "name": "ipython",
    "version": 3
   },
   "file_extension": ".py",
   "mimetype": "text/x-python",
   "name": "python",
   "nbconvert_exporter": "python",
   "pygments_lexer": "ipython3",
   "version": "3.9.7"
  }
 },
 "nbformat": 4,
 "nbformat_minor": 5
}
