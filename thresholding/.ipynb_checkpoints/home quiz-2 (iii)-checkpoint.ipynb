{
 "cells": [
  {
   "cell_type": "markdown",
   "id": "3dcdb55b",
   "metadata": {},
   "source": [
    "## Thresholding to Zero Inverted"
   ]
  },
  {
   "cell_type": "code",
   "execution_count": 1,
   "id": "7f5e3200",
   "metadata": {},
   "outputs": [],
   "source": [
    "import cv2 as cv\n",
    "import numpy as np\n",
    "from matplotlib import pyplot as plt"
   ]
  },
  {
   "cell_type": "code",
   "execution_count": 2,
   "id": "61da095f",
   "metadata": {},
   "outputs": [],
   "source": [
    "# read image in gray scale\n",
    "img = cv.imread('shapes.png',0)"
   ]
  },
  {
   "cell_type": "code",
   "execution_count": 3,
   "id": "6382a884",
   "metadata": {},
   "outputs": [],
   "source": [
    "#get no of rows and columns(of pixels) in image\n",
    "row, col = img.shape"
   ]
  },
  {
   "cell_type": "code",
   "execution_count": 4,
   "id": "c9e5acdb",
   "metadata": {},
   "outputs": [],
   "source": [
    "#arry of zeros having same shape as image to be thresholded\n",
    "BnW_img= np.zeros((row,col),np.uint8)"
   ]
  },
  {
   "cell_type": "code",
   "execution_count": 5,
   "id": "e363e8a7",
   "metadata": {},
   "outputs": [],
   "source": [
    "#max gray level in image\n",
    "maxGrayLevel =img.max()"
   ]
  },
  {
   "cell_type": "code",
   "execution_count": 6,
   "id": "1dd5cea1",
   "metadata": {},
   "outputs": [],
   "source": [
    "threshold =img.mean() #average Gray Level of image"
   ]
  },
  {
   "cell_type": "code",
   "execution_count": 7,
   "id": "32c7a639",
   "metadata": {},
   "outputs": [],
   "source": [
    "while True:\n",
    "    # image segmented into two group of pixels, namely foregroundImg and backgroundImg\n",
    "    foregroundImg = (img > threshold) * img\n",
    "    backgroundImg = (img <= threshold) *img\n",
    "    # mean of pixels in each group\n",
    "    foreground_Mean = foregroundImg.mean()\n",
    "    background_Mean = backgroundImg.mean()\n",
    "    threshold_new =(foreground_Mean + background_Mean)/2\n",
    "    # update new threshold values till its difference from old one is very small\n",
    "    if(threshold_new - threshold > 1e-4):\n",
    "        threshold_new = threshold\n",
    "    else: \n",
    "        break"
   ]
  },
  {
   "cell_type": "code",
   "execution_count": 8,
   "id": "e3da3824",
   "metadata": {},
   "outputs": [],
   "source": [
    "#implement Thresholding to Zero Inverted\n",
    "for i in range(row):\n",
    "    for j in range(col):\n",
    "        if(img[i, j]>threshold_new):\n",
    "            BnW_img[i,j]=0\n",
    "        else:\n",
    "            BnW_img[i,j]=img[i,j]"
   ]
  },
  {
   "cell_type": "code",
   "execution_count": 9,
   "id": "d645aabd",
   "metadata": {},
   "outputs": [],
   "source": [
    "#show converted image\n",
    "cv.imshow('BnW',BnW_img)\n",
    "cv.waitKey(0)\n",
    "cv.destroyAllWindows()"
   ]
  }
 ],
 "metadata": {
  "kernelspec": {
   "display_name": "Python 3 (ipykernel)",
   "language": "python",
   "name": "python3"
  },
  "language_info": {
   "codemirror_mode": {
    "name": "ipython",
    "version": 3
   },
   "file_extension": ".py",
   "mimetype": "text/x-python",
   "name": "python",
   "nbconvert_exporter": "python",
   "pygments_lexer": "ipython3",
   "version": "3.9.7"
  }
 },
 "nbformat": 4,
 "nbformat_minor": 5
}
