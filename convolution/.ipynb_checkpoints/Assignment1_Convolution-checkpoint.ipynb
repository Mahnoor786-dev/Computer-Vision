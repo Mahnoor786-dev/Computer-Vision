{
 "cells": [
  {
   "cell_type": "code",
   "execution_count": 1,
   "id": "c58fc580",
   "metadata": {},
   "outputs": [],
   "source": [
    "import numpy as np\n",
    "import cv2 as cv"
   ]
  },
  {
   "cell_type": "code",
   "execution_count": 2,
   "id": "e9aa38d1",
   "metadata": {},
   "outputs": [],
   "source": [
    "def convolution(image, kernel):\n",
    "    resultImage = np.zeros(shape=(image.shape[0],image.shape[1]))\n",
    "    kernel = np.flip(kernel,1) #flip horizontally\n",
    "    kernel = np.flip(kernel,0) #flip vertically\n",
    "    kernelShape = kernel.shape[0] #rows = columns in kernel\n",
    "    padCount = int(kernelShape//2)  #now of rows above and below the centre of kernel = padding count\n",
    "    image = np.pad(image, (padCount, padCount), 'constant', constant_values=(0)) #padding zeros in image for boundary cases\n",
    "    resultImage = np.pad(resultImage, (padCount, padCount), 'constant', constant_values=(0)) #padding zeros in resultimage to keep indices of a pixel same as original image\n",
    "    rows, cols = resultImage.shape\n",
    "    for i in range(padCount,rows-padCount):\n",
    "        for j in range(padCount,cols-padCount):\n",
    "            #slice corresponding array to multiply with kernel\n",
    "            x1 = i-padCount\n",
    "            y1 = j-padCount\n",
    "            x2 = i+padCount+1\n",
    "            y2 = j+padCount+1\n",
    "            subImage=image[x1:x2, y1:y2]\n",
    "            #print(subImage)\n",
    "            pixelVal=0\n",
    "            for row in range(kernelShape):\n",
    "                for col in range(kernelShape):\n",
    "                    pixelVal += (kernel[row][col] * subImage[row][col])\n",
    "            resultImage[i][j]=pixelVal\n",
    "#delete all 0 padded rows and columns\n",
    "    resultImage = np.delete(resultImage, list(range(0,padCount)), 0) #delete 0 padded rows on top\n",
    "    resultImage = np.delete(resultImage, list(range(rows-padCount-padCount,rows-padCount)), 0) #delete 0 padded rows at bottom\n",
    "    resultImage = np.delete(resultImage, list(range(0,padCount)), 1)  #delete 0 padded columns on top\n",
    "    size=resultImage.shape[1]\n",
    "    #resultImage = np.delete(resultImage, list(range(size-padCount,size)), 1) #delete 0 padded columns at bottom\n",
    "    resultImage = np.delete(resultImage, list(range(cols-padCount-padCount,cols-padCount)), 1) #delete 0 padded columns at bottom\n",
    "    resultImage = np.clip(resultImage, 0, 255)\n",
    "    return resultImage"
   ]
  },
  {
   "cell_type": "code",
   "execution_count": 3,
   "id": "a5a6ba8e",
   "metadata": {},
   "outputs": [],
   "source": [
    "image = cv.imread('book.png')\n",
    "# image = np.asarray(img) #convert image to numpy array"
   ]
  },
  {
   "cell_type": "code",
   "execution_count": 4,
   "id": "022bebab",
   "metadata": {},
   "outputs": [],
   "source": [
    "result = np.zeros(shape=(image.shape[0],image.shape[1],3)) #array of zeros having same shape as image size/shape to hold convolution result"
   ]
  },
  {
   "cell_type": "code",
   "execution_count": 5,
   "id": "f09e0a4a",
   "metadata": {},
   "outputs": [],
   "source": [
    "#gray scale image in blue, green, red channel respectively\n",
    "blue_c = image[:,:,0]\n",
    "green_c = image[:,:,1]\n",
    "red_c = image[:,:,2]"
   ]
  },
  {
   "cell_type": "code",
   "execution_count": 6,
   "id": "a66532fa",
   "metadata": {},
   "outputs": [
    {
     "data": {
      "text/plain": [
       "True"
      ]
     },
     "execution_count": 6,
     "metadata": {},
     "output_type": "execute_result"
    }
   ],
   "source": [
    "# 3x3 smoothing kernel\n",
    "kernel = 1/9*(np.array([[1,1,1],[1,1,1],[1,1,1]])) # 3*3 smoothing kernel\n",
    "result[:,:,0] = convolution(blue_c, kernel)\n",
    "result[:,:,1] = convolution(green_c, kernel)\n",
    "result[:,:,2] = convolution(red_c, kernel)\n",
    "cv.imwrite('smoothImage3by3.png', result)"
   ]
  },
  {
   "cell_type": "code",
   "execution_count": 7,
   "id": "2b5ba0f4",
   "metadata": {},
   "outputs": [
    {
     "data": {
      "text/plain": [
       "True"
      ]
     },
     "execution_count": 7,
     "metadata": {},
     "output_type": "execute_result"
    }
   ],
   "source": [
    "# 5x5 smoothing kernel\n",
    "kernel = 1/25*(np.array([[1,1,1,1,1],[1,1,1,1,1],[1,1,1,1,1],[1,1,1,1,1],[1,1,1,1,1]]))\n",
    "result[:,:,0] = convolution(blue_c, kernel)\n",
    "result[:,:,1] = convolution(green_c, kernel)\n",
    "result[:,:,2] = convolution(red_c, kernel)\n",
    "cv.imwrite('smoothImage5by5.png', result)"
   ]
  },
  {
   "cell_type": "code",
   "execution_count": 8,
   "id": "bb1edd77",
   "metadata": {},
   "outputs": [
    {
     "data": {
      "text/plain": [
       "True"
      ]
     },
     "execution_count": 8,
     "metadata": {},
     "output_type": "execute_result"
    }
   ],
   "source": [
    "# 7x7 smoothing kernel\n",
    "kernel = 1/49*(np.array([[1,1,1,1,1,1,1],[1,1,1,1,1,1,1],[1,1,1,1,1,1,1],[1,1,1,1,1,1,1],[1,1,1,1,1,1,1],[1,1,1,1,1,1,1],[1,1,1,1,1,1,1]]))\n",
    "result[:,:,0] = convolution(blue_c, kernel)\n",
    "result[:,:,1] = convolution(green_c, kernel)\n",
    "result[:,:,2] = convolution(red_c, kernel)\n",
    "cv.imwrite('smoothImage7by7.png', result)"
   ]
  },
  {
   "cell_type": "code",
   "execution_count": 9,
   "id": "59032475",
   "metadata": {},
   "outputs": [
    {
     "ename": "SyntaxError",
     "evalue": "invalid character '−' (U+2212) (2437480226.py, line 2)",
     "output_type": "error",
     "traceback": [
      "\u001b[1;36m  Input \u001b[1;32mIn [9]\u001b[1;36m\u001b[0m\n\u001b[1;33m    kernel = np.array([[0, −1, 0],[−1, 5, −1],[0, −1, 0]])\u001b[0m\n\u001b[1;37m                           ^\u001b[0m\n\u001b[1;31mSyntaxError\u001b[0m\u001b[1;31m:\u001b[0m invalid character '−' (U+2212)\n"
     ]
    }
   ],
   "source": [
    "#3x3 sharpening kernel\n",
    "kernel = np.array([[0, −1, 0],[−1, 5, −1],[0, −1, 0]])\n",
    "result[:,:,0] = convolution(blue_c, kernel)\n",
    "result[:,:,1] = convolution(green_c, kernel)\n",
    "result[:,:,2] = convolution(red_c, kernel)\n",
    "cv.imwrite('sharpImage.png', result)"
   ]
  }
 ],
 "metadata": {
  "kernelspec": {
   "display_name": "Python 3 (ipykernel)",
   "language": "python",
   "name": "python3"
  },
  "language_info": {
   "codemirror_mode": {
    "name": "ipython",
    "version": 3
   },
   "file_extension": ".py",
   "mimetype": "text/x-python",
   "name": "python",
   "nbconvert_exporter": "python",
   "pygments_lexer": "ipython3",
   "version": "3.9.7"
  }
 },
 "nbformat": 4,
 "nbformat_minor": 5
}
